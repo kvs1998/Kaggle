{
  "nbformat": 4,
  "nbformat_minor": 0,
  "metadata": {
    "colab": {
      "name": "Friends Series Dataset EDA.ipynb",
      "provenance": [],
      "authorship_tag": "ABX9TyMMblEmZkFncoDogYjHyObC",
      "include_colab_link": true
    },
    "kernelspec": {
      "name": "python3",
      "display_name": "Python 3"
    },
    "language_info": {
      "name": "python"
    },
    "accelerator": "GPU"
  },
  "cells": [
    {
      "cell_type": "markdown",
      "metadata": {
        "id": "view-in-github",
        "colab_type": "text"
      },
      "source": [
        "<a href=\"https://colab.research.google.com/github/kvs1998/Kaggle/blob/main/Friends_Series_Dataset_EDA.ipynb\" target=\"_parent\"><img src=\"https://colab.research.google.com/assets/colab-badge.svg\" alt=\"Open In Colab\"/></a>"
      ]
    },
    {
      "cell_type": "code",
      "metadata": {
        "colab": {
          "resources": {
            "http://localhost:8080/nbextensions/google.colab/files.js": {
              "data": "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",
              "ok": true,
              "headers": [
                [
                  "content-type",
                  "application/javascript"
                ]
              ],
              "status": 200,
              "status_text": ""
            }
          },
          "base_uri": "https://localhost:8080/",
          "height": 125
        },
        "id": "ifvBrLhcZPip",
        "outputId": "ea37d228-5571-4aeb-c2ce-7cf3c02e8073"
      },
      "source": [
        "!pip install -q kaggle\n",
        "from google.colab import files\n",
        "files.upload()\n",
        "!mkdir ~/.kaggle\n",
        "!cp kaggle.json ~/.kaggle/\n",
        "!chmod 600 ~/.kaggle/kaggle.json\n",
        "!kaggle datasets download -d rezaghari/friends-series-dataset"
      ],
      "execution_count": 1,
      "outputs": [
        {
          "output_type": "display_data",
          "data": {
            "text/html": [
              "\n",
              "     <input type=\"file\" id=\"files-4ca2ee25-93bb-42be-8d70-0403324c5179\" name=\"files[]\" multiple disabled\n",
              "        style=\"border:none\" />\n",
              "     <output id=\"result-4ca2ee25-93bb-42be-8d70-0403324c5179\">\n",
              "      Upload widget is only available when the cell has been executed in the\n",
              "      current browser session. Please rerun this cell to enable.\n",
              "      </output>\n",
              "      <script src=\"/nbextensions/google.colab/files.js\"></script> "
            ],
            "text/plain": [
              "<IPython.core.display.HTML object>"
            ]
          },
          "metadata": {
            "tags": []
          }
        },
        {
          "output_type": "stream",
          "text": [
            "Saving kaggle.json to kaggle.json\n",
            "Downloading friends-series-dataset.zip to /content\n",
            "  0% 0.00/40.0k [00:00<?, ?B/s]\n",
            "100% 40.0k/40.0k [00:00<00:00, 15.7MB/s]\n"
          ],
          "name": "stdout"
        }
      ]
    },
    {
      "cell_type": "code",
      "metadata": {
        "id": "QJ22fNFWaH6T"
      },
      "source": [
        "import pandas as pd\n",
        "import numpy as np\n",
        "import matplotlib.pyplot as plt\n",
        "import seaborn as sns "
      ],
      "execution_count": 6,
      "outputs": []
    },
    {
      "cell_type": "code",
      "metadata": {
        "colab": {
          "base_uri": "https://localhost:8080/"
        },
        "id": "rJ5yQETgaWXi",
        "outputId": "49589763-324d-41f6-cdbf-f183a7cd3053"
      },
      "source": [
        "! mkdir train\n",
        "! unzip /content/friends-series-dataset.zip -d train"
      ],
      "execution_count": 8,
      "outputs": [
        {
          "output_type": "stream",
          "text": [
            "Archive:  /content/friends-series-dataset.zip\n",
            "  inflating: train/friends_episodes_v2.csv  \n",
            "  inflating: train/friends_episodes_v3.csv  \n"
          ],
          "name": "stdout"
        }
      ]
    },
    {
      "cell_type": "code",
      "metadata": {
        "id": "3ftCCe79ZvBO"
      },
      "source": [
        "data = pd.read_csv('/content/train/friends_episodes_v2.csv')"
      ],
      "execution_count": 33,
      "outputs": []
    },
    {
      "cell_type": "code",
      "metadata": {
        "id": "ZJCEEXqpgqY4"
      },
      "source": [
        "#data1 = pd.read_csv('/content/train/friends_episodes_v3.csv', encoding='latin-1')\n",
        "#data1.head()"
      ],
      "execution_count": 39,
      "outputs": []
    },
    {
      "cell_type": "code",
      "metadata": {
        "colab": {
          "base_uri": "https://localhost:8080/",
          "height": 487
        },
        "id": "m-K-Qw52aFTW",
        "outputId": "95e5761b-0774-42c4-c2ef-9d446d98b737"
      },
      "source": [
        "data[data['Year_of_prod'] == 1994]"
      ],
      "execution_count": 40,
      "outputs": [
        {
          "output_type": "execute_result",
          "data": {
            "text/html": [
              "<div>\n",
              "<style scoped>\n",
              "    .dataframe tbody tr th:only-of-type {\n",
              "        vertical-align: middle;\n",
              "    }\n",
              "\n",
              "    .dataframe tbody tr th {\n",
              "        vertical-align: top;\n",
              "    }\n",
              "\n",
              "    .dataframe thead th {\n",
              "        text-align: right;\n",
              "    }\n",
              "</style>\n",
              "<table border=\"1\" class=\"dataframe\">\n",
              "  <thead>\n",
              "    <tr style=\"text-align: right;\">\n",
              "      <th></th>\n",
              "      <th>Year_of_prod</th>\n",
              "      <th>Season</th>\n",
              "      <th>Episode_Title</th>\n",
              "      <th>Duration</th>\n",
              "      <th>Summary</th>\n",
              "      <th>Director</th>\n",
              "      <th>Stars</th>\n",
              "      <th>Votes</th>\n",
              "    </tr>\n",
              "  </thead>\n",
              "  <tbody>\n",
              "    <tr>\n",
              "      <th>0</th>\n",
              "      <td>1994</td>\n",
              "      <td>1</td>\n",
              "      <td>The One with the Sonogram at the End</td>\n",
              "      <td>22</td>\n",
              "      <td>Ross finds out his ex-wife is pregnant. Rachel...</td>\n",
              "      <td>James Burrows</td>\n",
              "      <td>8.1</td>\n",
              "      <td>4888</td>\n",
              "    </tr>\n",
              "    <tr>\n",
              "      <th>1</th>\n",
              "      <td>1994</td>\n",
              "      <td>1</td>\n",
              "      <td>The One with the Thumb</td>\n",
              "      <td>22</td>\n",
              "      <td>Monica becomes irritated when everyone likes h...</td>\n",
              "      <td>James Burrows</td>\n",
              "      <td>8.2</td>\n",
              "      <td>4605</td>\n",
              "    </tr>\n",
              "    <tr>\n",
              "      <th>2</th>\n",
              "      <td>1994</td>\n",
              "      <td>1</td>\n",
              "      <td>The One with George Stephanopoulos</td>\n",
              "      <td>22</td>\n",
              "      <td>Joey and Chandler take Ross to a hockey game t...</td>\n",
              "      <td>James Burrows</td>\n",
              "      <td>8.1</td>\n",
              "      <td>4468</td>\n",
              "    </tr>\n",
              "    <tr>\n",
              "      <th>3</th>\n",
              "      <td>1994</td>\n",
              "      <td>1</td>\n",
              "      <td>The One with the East German Laundry Detergent</td>\n",
              "      <td>22</td>\n",
              "      <td>Eager to spend time with Rachel, Ross pretends...</td>\n",
              "      <td>Pamela Fryman</td>\n",
              "      <td>8.5</td>\n",
              "      <td>4438</td>\n",
              "    </tr>\n",
              "    <tr>\n",
              "      <th>4</th>\n",
              "      <td>1994</td>\n",
              "      <td>1</td>\n",
              "      <td>The One with the Butt</td>\n",
              "      <td>22</td>\n",
              "      <td>Monica's obsessiveness is put to the test afte...</td>\n",
              "      <td>Arlene Sanford</td>\n",
              "      <td>8.1</td>\n",
              "      <td>4274</td>\n",
              "    </tr>\n",
              "    <tr>\n",
              "      <th>5</th>\n",
              "      <td>1994</td>\n",
              "      <td>1</td>\n",
              "      <td>The One with the Blackout</td>\n",
              "      <td>22</td>\n",
              "      <td>When New York suffers from a blackout, Ross tr...</td>\n",
              "      <td>James Burrows</td>\n",
              "      <td>9.0</td>\n",
              "      <td>5469</td>\n",
              "    </tr>\n",
              "    <tr>\n",
              "      <th>6</th>\n",
              "      <td>1994</td>\n",
              "      <td>1</td>\n",
              "      <td>The One Where Nana Dies Twice</td>\n",
              "      <td>22</td>\n",
              "      <td>Monica and Ross mourn the loss of their grandm...</td>\n",
              "      <td>James Burrows</td>\n",
              "      <td>8.1</td>\n",
              "      <td>4156</td>\n",
              "    </tr>\n",
              "    <tr>\n",
              "      <th>7</th>\n",
              "      <td>1994</td>\n",
              "      <td>1</td>\n",
              "      <td>The One Where Underdog Gets Away</td>\n",
              "      <td>22</td>\n",
              "      <td>The gang's plans for Thanksgiving go awry afte...</td>\n",
              "      <td>James Burrows</td>\n",
              "      <td>8.2</td>\n",
              "      <td>4038</td>\n",
              "    </tr>\n",
              "    <tr>\n",
              "      <th>8</th>\n",
              "      <td>1994</td>\n",
              "      <td>1</td>\n",
              "      <td>The One with the Monkey</td>\n",
              "      <td>22</td>\n",
              "      <td>The gang make (and break) a pact not to bring ...</td>\n",
              "      <td>Peter Bonerz</td>\n",
              "      <td>8.1</td>\n",
              "      <td>4064</td>\n",
              "    </tr>\n",
              "  </tbody>\n",
              "</table>\n",
              "</div>"
            ],
            "text/plain": [
              "   Year_of_prod  Season  ... Stars  Votes\n",
              "0          1994       1  ...   8.1   4888\n",
              "1          1994       1  ...   8.2   4605\n",
              "2          1994       1  ...   8.1   4468\n",
              "3          1994       1  ...   8.5   4438\n",
              "4          1994       1  ...   8.1   4274\n",
              "5          1994       1  ...   9.0   5469\n",
              "6          1994       1  ...   8.1   4156\n",
              "7          1994       1  ...   8.2   4038\n",
              "8          1994       1  ...   8.1   4064\n",
              "\n",
              "[9 rows x 8 columns]"
            ]
          },
          "metadata": {
            "tags": []
          },
          "execution_count": 40
        }
      ]
    },
    {
      "cell_type": "code",
      "metadata": {
        "colab": {
          "base_uri": "https://localhost:8080/"
        },
        "id": "TdKB-bJjcQWx",
        "outputId": "3c540265-3c45-48b8-9a26-77c337e69a60"
      },
      "source": [
        "#Number of episodes in each season\n",
        "data.groupby('Year_of_prod').count()['Season']"
      ],
      "execution_count": 41,
      "outputs": [
        {
          "output_type": "execute_result",
          "data": {
            "text/plain": [
              "Year_of_prod\n",
              "1994     9\n",
              "1995    23\n",
              "1996    25\n",
              "1997    25\n",
              "1998    24\n",
              "1999    24\n",
              "2000    25\n",
              "2001    25\n",
              "2002    23\n",
              "2003    22\n",
              "2004    10\n",
              "Name: Season, dtype: int64"
            ]
          },
          "metadata": {
            "tags": []
          },
          "execution_count": 41
        }
      ]
    },
    {
      "cell_type": "code",
      "metadata": {
        "colab": {
          "base_uri": "https://localhost:8080/",
          "height": 958
        },
        "id": "m_-eM670isAF",
        "outputId": "1c2b3b11-785a-4753-ac0d-fc295d119fa7"
      },
      "source": [
        "#Director ranked according to most votes \n",
        "data.groupby('Director')[['Stars', 'Votes']].agg(np.mean).sort_values(['Votes'],ascending=False)"
      ],
      "execution_count": 60,
      "outputs": [
        {
          "output_type": "execute_result",
          "data": {
            "text/html": [
              "<div>\n",
              "<style scoped>\n",
              "    .dataframe tbody tr th:only-of-type {\n",
              "        vertical-align: middle;\n",
              "    }\n",
              "\n",
              "    .dataframe tbody tr th {\n",
              "        vertical-align: top;\n",
              "    }\n",
              "\n",
              "    .dataframe thead th {\n",
              "        text-align: right;\n",
              "    }\n",
              "</style>\n",
              "<table border=\"1\" class=\"dataframe\">\n",
              "  <thead>\n",
              "    <tr style=\"text-align: right;\">\n",
              "      <th></th>\n",
              "      <th>Stars</th>\n",
              "      <th>Votes</th>\n",
              "    </tr>\n",
              "    <tr>\n",
              "      <th>Director</th>\n",
              "      <th></th>\n",
              "      <th></th>\n",
              "    </tr>\n",
              "  </thead>\n",
              "  <tbody>\n",
              "    <tr>\n",
              "      <th>James Burrows</th>\n",
              "      <td>8.514286</td>\n",
              "      <td>4307.357143</td>\n",
              "    </tr>\n",
              "    <tr>\n",
              "      <th>Arlene Sanford</th>\n",
              "      <td>8.100000</td>\n",
              "      <td>4274.000000</td>\n",
              "    </tr>\n",
              "    <tr>\n",
              "      <th>Alan Myerson</th>\n",
              "      <td>8.450000</td>\n",
              "      <td>4043.500000</td>\n",
              "    </tr>\n",
              "    <tr>\n",
              "      <th>Pamela Fryman</th>\n",
              "      <td>8.700000</td>\n",
              "      <td>4019.000000</td>\n",
              "    </tr>\n",
              "    <tr>\n",
              "      <th>Paul Lazarus</th>\n",
              "      <td>8.200000</td>\n",
              "      <td>3926.000000</td>\n",
              "    </tr>\n",
              "    <tr>\n",
              "      <th>Joe Regalbuto</th>\n",
              "      <td>9.100000</td>\n",
              "      <td>3781.000000</td>\n",
              "    </tr>\n",
              "    <tr>\n",
              "      <th>Michael Lembeck</th>\n",
              "      <td>8.520833</td>\n",
              "      <td>3651.875000</td>\n",
              "    </tr>\n",
              "    <tr>\n",
              "      <th>Peter Bonerz</th>\n",
              "      <td>8.325000</td>\n",
              "      <td>3595.166667</td>\n",
              "    </tr>\n",
              "    <tr>\n",
              "      <th>Mary Kay Place</th>\n",
              "      <td>8.500000</td>\n",
              "      <td>3581.000000</td>\n",
              "    </tr>\n",
              "    <tr>\n",
              "      <th>Thomas Schlamme</th>\n",
              "      <td>8.050000</td>\n",
              "      <td>3557.500000</td>\n",
              "    </tr>\n",
              "    <tr>\n",
              "      <th>Ellen Gittelsohn</th>\n",
              "      <td>8.300000</td>\n",
              "      <td>3550.000000</td>\n",
              "    </tr>\n",
              "    <tr>\n",
              "      <th>Kevin Bright</th>\n",
              "      <td>8.646296</td>\n",
              "      <td>3477.111111</td>\n",
              "    </tr>\n",
              "    <tr>\n",
              "      <th>Gail Mancuso</th>\n",
              "      <td>8.357143</td>\n",
              "      <td>3374.642857</td>\n",
              "    </tr>\n",
              "    <tr>\n",
              "      <th>Robby Benson</th>\n",
              "      <td>8.183333</td>\n",
              "      <td>3315.000000</td>\n",
              "    </tr>\n",
              "    <tr>\n",
              "      <th>Shelley Jensen</th>\n",
              "      <td>8.433333</td>\n",
              "      <td>3266.333333</td>\n",
              "    </tr>\n",
              "    <tr>\n",
              "      <th>Steve Zuckerman</th>\n",
              "      <td>8.100000</td>\n",
              "      <td>3245.500000</td>\n",
              "    </tr>\n",
              "    <tr>\n",
              "      <th>David Steinberg</th>\n",
              "      <td>8.500000</td>\n",
              "      <td>3210.000000</td>\n",
              "    </tr>\n",
              "    <tr>\n",
              "      <th>Andrew Tsao</th>\n",
              "      <td>8.600000</td>\n",
              "      <td>3174.000000</td>\n",
              "    </tr>\n",
              "    <tr>\n",
              "      <th>Sam Simon</th>\n",
              "      <td>8.300000</td>\n",
              "      <td>3154.000000</td>\n",
              "    </tr>\n",
              "    <tr>\n",
              "      <th>Terry Hughes</th>\n",
              "      <td>8.220000</td>\n",
              "      <td>3107.800000</td>\n",
              "    </tr>\n",
              "    <tr>\n",
              "      <th>Dana De Vally Piazza</th>\n",
              "      <td>8.400000</td>\n",
              "      <td>3067.000000</td>\n",
              "    </tr>\n",
              "    <tr>\n",
              "      <th>Gary Halvorson</th>\n",
              "      <td>8.401852</td>\n",
              "      <td>2992.055556</td>\n",
              "    </tr>\n",
              "    <tr>\n",
              "      <th>David Schwimmer</th>\n",
              "      <td>8.540000</td>\n",
              "      <td>2941.400000</td>\n",
              "    </tr>\n",
              "    <tr>\n",
              "      <th>Todd Holland</th>\n",
              "      <td>8.000000</td>\n",
              "      <td>2898.000000</td>\n",
              "    </tr>\n",
              "    <tr>\n",
              "      <th>Ben Weiss</th>\n",
              "      <td>8.300000</td>\n",
              "      <td>2840.200000</td>\n",
              "    </tr>\n",
              "    <tr>\n",
              "      <th>Stephen Prime</th>\n",
              "      <td>8.400000</td>\n",
              "      <td>2819.000000</td>\n",
              "    </tr>\n",
              "    <tr>\n",
              "      <th>Sheldon Epps</th>\n",
              "      <td>8.466667</td>\n",
              "      <td>2810.000000</td>\n",
              "    </tr>\n",
              "    <tr>\n",
              "      <th>Roger Christiansen</th>\n",
              "      <td>8.200000</td>\n",
              "      <td>2772.500000</td>\n",
              "    </tr>\n",
              "  </tbody>\n",
              "</table>\n",
              "</div>"
            ],
            "text/plain": [
              "                         Stars        Votes\n",
              "Director                                   \n",
              "James Burrows         8.514286  4307.357143\n",
              "Arlene Sanford        8.100000  4274.000000\n",
              "Alan Myerson          8.450000  4043.500000\n",
              "Pamela Fryman         8.700000  4019.000000\n",
              "Paul Lazarus          8.200000  3926.000000\n",
              "Joe Regalbuto         9.100000  3781.000000\n",
              "Michael Lembeck       8.520833  3651.875000\n",
              "Peter Bonerz          8.325000  3595.166667\n",
              "Mary Kay Place        8.500000  3581.000000\n",
              "Thomas Schlamme       8.050000  3557.500000\n",
              "Ellen Gittelsohn      8.300000  3550.000000\n",
              "Kevin Bright          8.646296  3477.111111\n",
              "Gail Mancuso          8.357143  3374.642857\n",
              "Robby Benson          8.183333  3315.000000\n",
              "Shelley Jensen        8.433333  3266.333333\n",
              "Steve Zuckerman       8.100000  3245.500000\n",
              "David Steinberg       8.500000  3210.000000\n",
              "Andrew Tsao           8.600000  3174.000000\n",
              "Sam Simon             8.300000  3154.000000\n",
              "Terry Hughes          8.220000  3107.800000\n",
              "Dana De Vally Piazza  8.400000  3067.000000\n",
              "Gary Halvorson        8.401852  2992.055556\n",
              "David Schwimmer       8.540000  2941.400000\n",
              "Todd Holland          8.000000  2898.000000\n",
              "Ben Weiss             8.300000  2840.200000\n",
              "Stephen Prime         8.400000  2819.000000\n",
              "Sheldon Epps          8.466667  2810.000000\n",
              "Roger Christiansen    8.200000  2772.500000"
            ]
          },
          "metadata": {
            "tags": []
          },
          "execution_count": 60
        }
      ]
    },
    {
      "cell_type": "code",
      "metadata": {
        "colab": {
          "base_uri": "https://localhost:8080/",
          "height": 567
        },
        "id": "22gi3V_chZkz",
        "outputId": "2e0b5240-2656-46a4-d56c-926dfbc83a19"
      },
      "source": [
        "#Most popular episode in each season(acc to the votes)\n",
        "data.groupby('Season').max()\n",
        "#data.groupby('Season').agg({'Votes':'max'})"
      ],
      "execution_count": 69,
      "outputs": [
        {
          "output_type": "execute_result",
          "data": {
            "text/html": [
              "<div>\n",
              "<style scoped>\n",
              "    .dataframe tbody tr th:only-of-type {\n",
              "        vertical-align: middle;\n",
              "    }\n",
              "\n",
              "    .dataframe tbody tr th {\n",
              "        vertical-align: top;\n",
              "    }\n",
              "\n",
              "    .dataframe thead th {\n",
              "        text-align: right;\n",
              "    }\n",
              "</style>\n",
              "<table border=\"1\" class=\"dataframe\">\n",
              "  <thead>\n",
              "    <tr style=\"text-align: right;\">\n",
              "      <th></th>\n",
              "      <th>Year_of_prod</th>\n",
              "      <th>Episode_Title</th>\n",
              "      <th>Duration</th>\n",
              "      <th>Summary</th>\n",
              "      <th>Director</th>\n",
              "      <th>Stars</th>\n",
              "      <th>Votes</th>\n",
              "    </tr>\n",
              "    <tr>\n",
              "      <th>Season</th>\n",
              "      <th></th>\n",
              "      <th></th>\n",
              "      <th></th>\n",
              "      <th></th>\n",
              "      <th></th>\n",
              "      <th></th>\n",
              "      <th></th>\n",
              "    </tr>\n",
              "  </thead>\n",
              "  <tbody>\n",
              "    <tr>\n",
              "      <th>1</th>\n",
              "      <td>1995</td>\n",
              "      <td>The One with the Thumb</td>\n",
              "      <td>22</td>\n",
              "      <td>When New York suffers from a blackout, Ross tr...</td>\n",
              "      <td>Robby Benson</td>\n",
              "      <td>9.0</td>\n",
              "      <td>5469</td>\n",
              "    </tr>\n",
              "    <tr>\n",
              "      <th>2</th>\n",
              "      <td>1996</td>\n",
              "      <td>The One with the Two Parties</td>\n",
              "      <td>22</td>\n",
              "      <td>With help from Chandler and Joey, Ross makes a...</td>\n",
              "      <td>Thomas Schlamme</td>\n",
              "      <td>9.4</td>\n",
              "      <td>5736</td>\n",
              "    </tr>\n",
              "    <tr>\n",
              "      <th>3</th>\n",
              "      <td>1997</td>\n",
              "      <td>The One with the Ultimate Fighting Champion</td>\n",
              "      <td>22</td>\n",
              "      <td>While at the beach, Phoebe meets a family frie...</td>\n",
              "      <td>Terry Hughes</td>\n",
              "      <td>9.1</td>\n",
              "      <td>4637</td>\n",
              "    </tr>\n",
              "    <tr>\n",
              "      <th>4</th>\n",
              "      <td>1998</td>\n",
              "      <td>The One with the Worst Best Man Ever</td>\n",
              "      <td>30</td>\n",
              "      <td>at first Ross chooses Joey to be his best man ...</td>\n",
              "      <td>Shelley Jensen</td>\n",
              "      <td>9.5</td>\n",
              "      <td>6006</td>\n",
              "    </tr>\n",
              "    <tr>\n",
              "      <th>5</th>\n",
              "      <td>1999</td>\n",
              "      <td>The One with the Yeti</td>\n",
              "      <td>22</td>\n",
              "      <td>When Phoebe finds out about Monica and Chandle...</td>\n",
              "      <td>Todd Holland</td>\n",
              "      <td>9.7</td>\n",
              "      <td>8066</td>\n",
              "    </tr>\n",
              "    <tr>\n",
              "      <th>6</th>\n",
              "      <td>2000</td>\n",
              "      <td>The One with the Routine</td>\n",
              "      <td>30</td>\n",
              "      <td>When Rachel hears Barry and Mindy are getting ...</td>\n",
              "      <td>Michael Lembeck</td>\n",
              "      <td>9.3</td>\n",
              "      <td>4187</td>\n",
              "    </tr>\n",
              "    <tr>\n",
              "      <th>7</th>\n",
              "      <td>2001</td>\n",
              "      <td>The One with the Vows</td>\n",
              "      <td>22</td>\n",
              "      <td>The gang celebrate Monica and Chandler's engag...</td>\n",
              "      <td>Stephen Prime</td>\n",
              "      <td>9.2</td>\n",
              "      <td>3563</td>\n",
              "    </tr>\n",
              "    <tr>\n",
              "      <th>8</th>\n",
              "      <td>2002</td>\n",
              "      <td>The One with the Videotape</td>\n",
              "      <td>22</td>\n",
              "      <td>The gang learns that Rachel is pregnant; Joey ...</td>\n",
              "      <td>Sheldon Epps</td>\n",
              "      <td>9.3</td>\n",
              "      <td>5291</td>\n",
              "    </tr>\n",
              "    <tr>\n",
              "      <th>9</th>\n",
              "      <td>2003</td>\n",
              "      <td>The One with the Soap Opera Party</td>\n",
              "      <td>27</td>\n",
              "      <td>When Monica and Chandler both ask Joey for mon...</td>\n",
              "      <td>Terry Hughes</td>\n",
              "      <td>8.8</td>\n",
              "      <td>3273</td>\n",
              "    </tr>\n",
              "    <tr>\n",
              "      <th>10</th>\n",
              "      <td>2004</td>\n",
              "      <td>The One with the Late Thanksgiving</td>\n",
              "      <td>30</td>\n",
              "      <td>When Phoebe goes to get her name changed she r...</td>\n",
              "      <td>Roger Christiansen</td>\n",
              "      <td>9.7</td>\n",
              "      <td>10381</td>\n",
              "    </tr>\n",
              "  </tbody>\n",
              "</table>\n",
              "</div>"
            ],
            "text/plain": [
              "        Year_of_prod                                Episode_Title  ...  Stars  Votes\n",
              "Season                                                             ...              \n",
              "1               1995                       The One with the Thumb  ...    9.0   5469\n",
              "2               1996                 The One with the Two Parties  ...    9.4   5736\n",
              "3               1997  The One with the Ultimate Fighting Champion  ...    9.1   4637\n",
              "4               1998         The One with the Worst Best Man Ever  ...    9.5   6006\n",
              "5               1999                        The One with the Yeti  ...    9.7   8066\n",
              "6               2000                     The One with the Routine  ...    9.3   4187\n",
              "7               2001                        The One with the Vows  ...    9.2   3563\n",
              "8               2002                   The One with the Videotape  ...    9.3   5291\n",
              "9               2003            The One with the Soap Opera Party  ...    8.8   3273\n",
              "10              2004           The One with the Late Thanksgiving  ...    9.7  10381\n",
              "\n",
              "[10 rows x 7 columns]"
            ]
          },
          "metadata": {
            "tags": []
          },
          "execution_count": 69
        }
      ]
    },
    {
      "cell_type": "code",
      "metadata": {
        "id": "A1RKqmZSlTdf"
      },
      "source": [
        ""
      ],
      "execution_count": null,
      "outputs": []
    }
  ]
}